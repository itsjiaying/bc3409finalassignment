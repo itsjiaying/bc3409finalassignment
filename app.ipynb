{
 "cells": [
  {
   "cell_type": "code",
   "execution_count": 1,
   "id": "06957115",
   "metadata": {},
   "outputs": [],
   "source": [
    "from flask import Flask"
   ]
  },
  {
   "cell_type": "code",
   "execution_count": 2,
   "id": "7f161d64",
   "metadata": {},
   "outputs": [],
   "source": [
    "app = Flask(__name__)"
   ]
  },
  {
   "cell_type": "code",
   "execution_count": 3,
   "id": "d4a571be",
   "metadata": {},
   "outputs": [],
   "source": [
    "from flask import request, render_template\n",
    "import pickle\n",
    "\n",
    "@app.route(\"/\", methods=[\"GET\", \"POST\"])\n",
    "def index():\n",
    "    if request.method == \"POST\":\n",
    "        income = request.form.get(\"income\")\n",
    "        age = request.form.get(\"age\")\n",
    "        loan = request.form.get(\"loan\")\n",
    "        print(income, age, loan)\n",
    "        \n",
    "        modelLR = pickle.load(open(\"logistic_regression.sav\", 'rb'))\n",
    "        predLR = modelLR.predict([[float(income), float(age), float(loan)]])\n",
    "        sLR = \"Predicted default on credit card (Logistic Regression model): \" + str(predLR)\n",
    "        \n",
    "        modelDT = pickle.load(open(\"decision_tree.sav\", 'rb'))\n",
    "        predDT = modelDT.predict([[float(income), float(age), float(loan)]])\n",
    "        sDT = \"Predicted default on credit card (Decision Tree model): \" + str(predDT)\n",
    "    \n",
    "        modelRF = pickle.load(open(\"random_forest.sav\", 'rb'))\n",
    "        predRF = modelRF.predict([[float(income), float(age), float(loan)]])\n",
    "        sRF = \"Predicted default on credit card (Random Forest model): \" + str(predRF)\n",
    "    \n",
    "        modelXG = pickle.load(open(\"xgboost.sav\", 'rb'))\n",
    "        predXG = modelXG.predict([[float(income), float(age), float(loan)]])\n",
    "        sXG = \"Predicted default on credit card (XGBoost model): \" + str(predXG)\n",
    "    \n",
    "        modelMLP = pickle.load(open(\"mlp.sav\", 'rb'))\n",
    "        predMLP = modelMLP.predict([[float(income), float(age), float(loan)]])\n",
    "        sMLP = \"Predicted default on credit card (MLPClassifier model): \" + str(predMLP)\n",
    "        \n",
    "        return(render_template(\"index.html\", result1 = sLR, result2 = sDT, result3 = sRF, result4 = sXG, result5 = sMLP))\n",
    "    \n",
    "    else: \n",
    "        s = \".\"\n",
    "        return(render_template(\"index.html\", result1 = s, result2 = s, result3 = s, result4 = s, result5 = s))"
   ]
  },
  {
   "cell_type": "code",
   "execution_count": null,
   "id": "07c881a3",
   "metadata": {},
   "outputs": [
    {
     "name": "stdout",
     "output_type": "stream",
     "text": [
      " * Serving Flask app \"__main__\" (lazy loading)\n",
      " * Environment: production\n",
      "\u001b[31m   WARNING: This is a development server. Do not use it in a production deployment.\u001b[0m\n",
      "\u001b[2m   Use a production WSGI server instead.\u001b[0m\n",
      " * Debug mode: off\n"
     ]
    },
    {
     "name": "stderr",
     "output_type": "stream",
     "text": [
      " * Running on http://127.0.0.1:5000/ (Press CTRL+C to quit)\n",
      "127.0.0.1 - - [25/Feb/2022 01:39:13] \"GET / HTTP/1.1\" 200 -\n"
     ]
    },
    {
     "name": "stdout",
     "output_type": "stream",
     "text": [
      "100 100 100\n"
     ]
    },
    {
     "name": "stderr",
     "output_type": "stream",
     "text": [
      "/Users/jiaying/opt/anaconda3/lib/python3.8/site-packages/sklearn/base.py:445: UserWarning: X does not have valid feature names, but LogisticRegression was fitted with feature names\n",
      "  warnings.warn(\n",
      "/Users/jiaying/opt/anaconda3/lib/python3.8/site-packages/sklearn/base.py:445: UserWarning: X does not have valid feature names, but DecisionTreeClassifier was fitted with feature names\n",
      "  warnings.warn(\n",
      "/Users/jiaying/opt/anaconda3/lib/python3.8/site-packages/sklearn/base.py:445: UserWarning: X does not have valid feature names, but RandomForestClassifier was fitted with feature names\n",
      "  warnings.warn(\n",
      "/Users/jiaying/opt/anaconda3/lib/python3.8/site-packages/sklearn/base.py:445: UserWarning: X does not have valid feature names, but GradientBoostingClassifier was fitted with feature names\n",
      "  warnings.warn(\n",
      "/Users/jiaying/opt/anaconda3/lib/python3.8/site-packages/sklearn/base.py:445: UserWarning: X does not have valid feature names, but MLPClassifier was fitted with feature names\n",
      "  warnings.warn(\n",
      "127.0.0.1 - - [25/Feb/2022 01:39:21] \"POST / HTTP/1.1\" 200 -\n"
     ]
    }
   ],
   "source": [
    "if __name__ == \"__main__\":\n",
    "    app.run()"
   ]
  },
  {
   "cell_type": "code",
   "execution_count": null,
   "id": "87a7b8de",
   "metadata": {},
   "outputs": [],
   "source": []
  }
 ],
 "metadata": {
  "kernelspec": {
   "display_name": "Python 3 (ipykernel)",
   "language": "python",
   "name": "python3"
  },
  "language_info": {
   "codemirror_mode": {
    "name": "ipython",
    "version": 3
   },
   "file_extension": ".py",
   "mimetype": "text/x-python",
   "name": "python",
   "nbconvert_exporter": "python",
   "pygments_lexer": "ipython3",
   "version": "3.8.5"
  }
 },
 "nbformat": 4,
 "nbformat_minor": 5
}
